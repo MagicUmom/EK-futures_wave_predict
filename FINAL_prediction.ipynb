{
 "cells": [
  {
   "cell_type": "code",
   "execution_count": null,
   "id": "fe243781",
   "metadata": {},
   "outputs": [],
   "source": [
    "import pandas as pd\n",
    "import datetime\n",
    "from sklearn import preprocessing\n",
    "import numpy as np"
   ]
  },
  {
   "cell_type": "markdown",
   "id": "e89c7ef1",
   "metadata": {},
   "source": [
    "# 資料準備"
   ]
  },
  {
   "cell_type": "code",
   "execution_count": null,
   "id": "d48b512d",
   "metadata": {},
   "outputs": [],
   "source": [
    "df = pd.read_csv(\"220301_221031_1min.csv\")\n",
    "df = df[df[\"isDay\"] == True]\n",
    "\n",
    "\n",
    "cols = ['time', 'open', 'high', 'low', 'close', 'volume']\n",
    "df = df[cols]\n"
   ]
  },
  {
   "cell_type": "code",
   "execution_count": null,
   "id": "84e091be",
   "metadata": {},
   "outputs": [],
   "source": [
    "df.time = pd.to_datetime(df.time)"
   ]
  },
  {
   "cell_type": "code",
   "execution_count": null,
   "id": "1e40d839",
   "metadata": {},
   "outputs": [],
   "source": [
    "t = df.reset_index(drop=True)\n",
    "t = t.set_index(\"time\").groupby(pd.Grouper(freq='3Min')).agg({\"open\": \"first\", \n",
    "                                             \"close\": \"last\", \n",
    "                                             \"low\": \"min\", \n",
    "                                             \"high\": \"max\",\n",
    "                                              \"volume\": \"sum\"\n",
    "                                              })\n",
    "t.dropna(inplace=True)\n",
    "t = t.reset_index()\n",
    "t['date'] = t.time.dt.date"
   ]
  },
  {
   "cell_type": "code",
   "execution_count": null,
   "id": "0811d6f3",
   "metadata": {},
   "outputs": [],
   "source": [
    "def count_function(_df, start_time):\n",
    "    \n",
    "    ths = 5\n",
    "\n",
    "    if _df.iloc[0]['close'] > df.iloc[0]['open']:\n",
    "        flag_up = True\n",
    "        up_count = 1\n",
    "        down_count = 0\n",
    "    else:\n",
    "        flag_up = False\n",
    "        down_count = 1\n",
    "        up_count = 0\n",
    "\n",
    "    tmp_time = _df.iloc[0]['time']\n",
    "\n",
    "    for idx, row in _df.iloc[1:].iterrows():\n",
    "        if row['close'] == row['open']: # 十字線 開=收\n",
    "            if flag_up:\n",
    "                up_count+=1\n",
    "            else:\n",
    "                down_count+=1\n",
    "                \n",
    "        elif row['close'] > row['open']: # 當前為紅k\n",
    "            if flag_up: #前一根是紅k\n",
    "                up_count += 1\n",
    "\n",
    "            else:       # 前一根是黑k\n",
    "                if down_count >= ths:\n",
    "                    start_time.append([tmp_time, down_count, 0]) # 時間, 連續幾根, 黑k\n",
    "                tmp_time = row['time']\n",
    "                down_count = 0\n",
    "                up_count = 1\n",
    "                flag_up = True\n",
    "\n",
    "        else:  # 當前為黑k\n",
    "            if flag_up: # 前一根是紅k\n",
    "                if up_count >= ths:\n",
    "                    start_time.append([tmp_time, up_count, 1]) # 時間, 連續幾根, 紅k\n",
    "                tmp_time = row['time']\n",
    "                up_count = 0\n",
    "                down_count = 1\n",
    "                flag_up = False\n",
    "\n",
    "            else:       # 前一根是黑k\n",
    "                down_count += 1\n"
   ]
  },
  {
   "cell_type": "code",
   "execution_count": null,
   "id": "f4ec57b5",
   "metadata": {},
   "outputs": [],
   "source": [
    "time_list = []\n",
    "t.groupby(\"date\").apply(lambda x : count_function(x, time_list))"
   ]
  },
  {
   "cell_type": "code",
   "execution_count": null,
   "id": "27c861c0",
   "metadata": {},
   "outputs": [],
   "source": [
    "print(len(time_list))"
   ]
  },
  {
   "cell_type": "code",
   "execution_count": null,
   "id": "14410ecc",
   "metadata": {
    "scrolled": true,
    "tags": []
   },
   "outputs": [],
   "source": [
    "time_list[:5]"
   ]
  },
  {
   "cell_type": "markdown",
   "id": "f63ab5c3",
   "metadata": {},
   "source": [
    "## 製作新特徵"
   ]
  },
  {
   "cell_type": "code",
   "execution_count": null,
   "id": "85e0d39a",
   "metadata": {},
   "outputs": [],
   "source": [
    "import talib\n",
    "from talib import abstract"
   ]
  },
  {
   "cell_type": "code",
   "execution_count": null,
   "id": "971ac4a6",
   "metadata": {
    "scrolled": true,
    "tags": []
   },
   "outputs": [],
   "source": [
    "### ref. from https://medium.com/ai%E8%82%A1%E4%BB%94/%E7%94%A8-python-%E5%BF%AB%E9%80%9F%E8%A8%88%E7%AE%97-158-%E7%A8%AE%E6%8A%80%E8%A1%93%E6%8C%87%E6%A8%99-26f9579b8f3a\n",
    "\n",
    "ta_list = talib.get_functions()\n",
    "\n",
    "for x in ta_list:\n",
    "    try:\n",
    "        # x 為技術指標的代碼，透過迴圈填入，再透過 eval 計算出 output\n",
    "        output = eval('abstract.'+x+'(df)')\n",
    "        # 如果輸出是一維資料，幫這個指標取名為 x 本身；多維資料則不需命名\n",
    "        if type(output) == pd.core.series.Series:\n",
    "            df[x.lower()] = output \n",
    "        else: \n",
    "            df = pd.concat([df, output], axis=1)\n",
    "\n",
    "    except:\n",
    "        print(x)\n",
    "\n"
   ]
  },
  {
   "cell_type": "markdown",
   "id": "ff0b822a",
   "metadata": {},
   "source": [
    "### 製作 y label"
   ]
  },
  {
   "cell_type": "code",
   "execution_count": null,
   "id": "22c501f1",
   "metadata": {},
   "outputs": [],
   "source": [
    "df = df.set_index(\"time\")\n",
    "df[\"y\"] = 0"
   ]
  },
  {
   "cell_type": "code",
   "execution_count": null,
   "id": "2be5144a",
   "metadata": {},
   "outputs": [],
   "source": [
    "Freq = 3\n",
    "\n",
    "for i in range(len(time_list)):\n",
    "    start_time = time_list[i][0] - datetime.timedelta(minutes = 10)\n",
    "    end_time = time_list[i][0] + datetime.timedelta(minutes = time_list[i][1]*Freq)\n",
    "    \n",
    "    if time_list[i][2] == 1:\n",
    "        df.loc[start_time : end_time, \"y\"] = 1  # 1 為連續紅k\n",
    "    else:\n",
    "        df.loc[start_time : end_time, \"y\"] = -1 # -1 為連續黑k"
   ]
  },
  {
   "cell_type": "code",
   "execution_count": null,
   "id": "2d9133cf",
   "metadata": {},
   "outputs": [],
   "source": []
  },
  {
   "cell_type": "code",
   "execution_count": null,
   "id": "9936291c",
   "metadata": {},
   "outputs": [],
   "source": [
    "pd.value_counts(df[\"y\"])"
   ]
  },
  {
   "cell_type": "code",
   "execution_count": null,
   "id": "ca49ab13",
   "metadata": {},
   "outputs": [],
   "source": [
    "50700"
   ]
  },
  {
   "cell_type": "code",
   "execution_count": null,
   "id": "97a9c76d",
   "metadata": {},
   "outputs": [],
   "source": []
  },
  {
   "cell_type": "markdown",
   "id": "1aea0b53",
   "metadata": {},
   "source": [
    "## 標準化"
   ]
  },
  {
   "cell_type": "code",
   "execution_count": null,
   "id": "df9715ce",
   "metadata": {},
   "outputs": [],
   "source": [
    "df.replace([np.inf, -np.inf], np.nan, inplace=True)\n",
    "df = df.fillna(0)"
   ]
  },
  {
   "cell_type": "code",
   "execution_count": null,
   "id": "e6d4fcf5",
   "metadata": {},
   "outputs": [],
   "source": [
    "from sklearn.preprocessing import StandardScaler\n",
    "scaler = StandardScaler()\n",
    "df_scale = scaler.fit_transform(df.iloc[:,:-1])"
   ]
  },
  {
   "cell_type": "code",
   "execution_count": null,
   "id": "952ea1ee",
   "metadata": {},
   "outputs": [],
   "source": [
    "from keras.utils.np_utils import to_categorical\n",
    "\n",
    "y = df.iloc[:,-1:].shift(-29)\n",
    "y_one_hot = to_categorical(y.dropna().astype(int), num_classes=3)"
   ]
  },
  {
   "cell_type": "code",
   "execution_count": null,
   "id": "b3b01c8b",
   "metadata": {},
   "outputs": [],
   "source": [
    "df.y.value_counts()"
   ]
  },
  {
   "cell_type": "code",
   "execution_count": null,
   "id": "08247df3",
   "metadata": {},
   "outputs": [],
   "source": [
    "print(y_one_hot[:,0].sum())\n",
    "print(y_one_hot[:,1].sum())\n",
    "print(y_one_hot[:,2].sum())"
   ]
  },
  {
   "cell_type": "code",
   "execution_count": null,
   "id": "7fe9fc88",
   "metadata": {},
   "outputs": [],
   "source": [
    "# 0 : [1,0,0]\n",
    "# 1 : [0,1,0]\n",
    "# -1: [0,0,1]"
   ]
  },
  {
   "cell_type": "code",
   "execution_count": null,
   "id": "43728563",
   "metadata": {},
   "outputs": [],
   "source": [
    "import tensorflow as tf\n",
    "\n",
    "train_size = int(df_scale.shape[0] * 0.85)\n",
    "\n",
    "input_data = df_scale\n",
    "targets = y_one_hot\n",
    "train_dataset = tf.keras.utils.timeseries_dataset_from_array(\n",
    "    input_data[:train_size], targets[:train_size], sequence_length=30, batch_size=128)\n",
    "\n",
    "test_dataset = tf.keras.utils.timeseries_dataset_from_array(\n",
    "    input_data[train_size:], targets[train_size:], sequence_length=30, batch_size=128)"
   ]
  },
  {
   "cell_type": "code",
   "execution_count": null,
   "id": "6cd33562",
   "metadata": {},
   "outputs": [],
   "source": [
    "df_scale.shape"
   ]
  },
  {
   "cell_type": "markdown",
   "id": "3902a07f",
   "metadata": {},
   "source": [
    "## TEST"
   ]
  },
  {
   "cell_type": "code",
   "execution_count": null,
   "id": "322387ea",
   "metadata": {},
   "outputs": [],
   "source": [
    "import keras_nlp\n",
    "from tensorflow import keras\n",
    "\n",
    "inputs = keras.Input(shape=(30,179))\n",
    "\n",
    "embeddings = keras.layers.Dense(256, activation=\"linear\")(inputs)\n",
    "position_embeddings = keras_nlp.layers.PositionEmbedding(sequence_length=30)(embeddings)\n",
    "\n",
    "x = embeddings + position_embeddings\n",
    "x = keras_nlp.layers.TransformerEncoder(intermediate_dim=64, num_heads=8)(x)\n",
    "\n",
    "x = keras.layers.GlobalAveragePooling1D()(x)\n",
    "outputs = keras.layers.Dense(3, activation=\"softmax\")(x)\n",
    "model = keras.Model(inputs, outputs)"
   ]
  },
  {
   "cell_type": "code",
   "execution_count": null,
   "id": "74a5097e",
   "metadata": {},
   "outputs": [],
   "source": [
    "model.summary()"
   ]
  },
  {
   "cell_type": "code",
   "execution_count": null,
   "id": "6cf57afb",
   "metadata": {
    "scrolled": true
   },
   "outputs": [],
   "source": [
    "model.compile(optimizer=keras.optimizers.Adam(learning_rate=0.001), \n",
    "              loss=tf.keras.losses.categorical_crossentropy,\n",
    "                metrics=[\"accuracy\"],\n",
    "                jit_compile=True)\n",
    "\n",
    "model.fit(train_dataset.repeat(), epochs=20,steps_per_epoch=396, shuffle=True)"
   ]
  },
  {
   "cell_type": "code",
   "execution_count": null,
   "id": "45b9e41f",
   "metadata": {},
   "outputs": [],
   "source": [
    "loss, accuracy = model.evaluate(train_dataset.repeat(), steps=10)\n",
    "print(\"Loss :\", loss)\n",
    "print(\"Accuracy :\", accuracy)\n"
   ]
  },
  {
   "cell_type": "code",
   "execution_count": null,
   "id": "ae731ef2",
   "metadata": {},
   "outputs": [],
   "source": [
    "loss, accuracy = model.evaluate(test_dataset.repeat(), steps=10)\n",
    "print(\"Loss :\", loss)\n",
    "print(\"Accuracy :\", accuracy)\n"
   ]
  },
  {
   "cell_type": "code",
   "execution_count": null,
   "id": "c8503a7d",
   "metadata": {},
   "outputs": [],
   "source": [
    "pred = model.predict(test_dataset)\n",
    "\n",
    "pred # predict prob."
   ]
  },
  {
   "cell_type": "code",
   "execution_count": null,
   "id": "bab8ea9b",
   "metadata": {},
   "outputs": [],
   "source": [
    "pred_class = np.argmax(pred, axis=1)\n",
    "pd.value_counts(pred_class)"
   ]
  },
  {
   "cell_type": "code",
   "execution_count": null,
   "id": "0378b9e9",
   "metadata": {},
   "outputs": [],
   "source": [
    "pred_class"
   ]
  }
 ],
 "metadata": {
  "kernelspec": {
   "display_name": "Python 3 (ipykernel)",
   "language": "python",
   "name": "python3"
  },
  "language_info": {
   "codemirror_mode": {
    "name": "ipython",
    "version": 3
   },
   "file_extension": ".py",
   "mimetype": "text/x-python",
   "name": "python",
   "nbconvert_exporter": "python",
   "pygments_lexer": "ipython3",
   "version": "3.8.10"
  }
 },
 "nbformat": 4,
 "nbformat_minor": 5
}
